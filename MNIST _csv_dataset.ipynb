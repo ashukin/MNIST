{
 "cells": [
  {
   "cell_type": "code",
   "execution_count": 1,
   "metadata": {
    "_cell_guid": "b1076dfc-b9ad-4769-8c92-a6c4dae69d19",
    "_uuid": "8f2839f25d086af736a60e9eeb907d3b93b6e0e5"
   },
   "outputs": [],
   "source": [
    "import numpy as np # linear algebra\n",
    "import pandas as pd # data processing, CSV file I/O (e.g. pd.read_csv)\n",
    "import matplotlib.pyplot as plt\n",
    "import torch\n",
    "from torch import nn,functional\n",
    "from torch.autograd import Variable\n",
    "import torchvision\n",
    "import torchvision.transforms as transforms\n",
    "# from torch.utils.data import Dataset, DataLoader\n",
    "from sklearn.model_selection import train_test_split\n",
    "\n",
    "import os\n",
    "# print(os.listdir(\"../input\"))\n",
    "\n",
    "%matplotlib inline\n",
    "\n",
    "device = torch.device(\"cuda:0\" if torch.cuda.is_available() else \"cpu\")"
   ]
  },
  {
   "cell_type": "code",
   "execution_count": 2,
   "metadata": {
    "_uuid": "abd31d02603c36a18a86721ae913a96a86ecc7c2"
   },
   "outputs": [],
   "source": [
    "train_batch_size =107\n",
    "test_batch_size =107"
   ]
  },
  {
   "cell_type": "code",
   "execution_count": 10,
   "metadata": {},
   "outputs": [
    {
     "name": "stdout",
     "output_type": "stream",
     "text": [
      "(60000, 785)\n"
     ]
    },
    {
     "data": {
      "text/plain": [
       "0        5\n",
       "1        0\n",
       "2        4\n",
       "3        1\n",
       "4        9\n",
       "        ..\n",
       "59995    8\n",
       "59996    3\n",
       "59997    5\n",
       "59998    6\n",
       "59999    8\n",
       "Name: label, Length: 60000, dtype: int64"
      ]
     },
     "execution_count": 10,
     "metadata": {},
     "output_type": "execute_result"
    }
   ],
   "source": [
    "df = pd.read_csv('mnist_train.csv')\n",
    "print(df.shape)\n",
    "df.iloc[:,0]\n"
   ]
  },
  {
   "cell_type": "code",
   "execution_count": 72,
   "metadata": {
    "_uuid": "a8d3a878e938729abe76d9326d799b14ef0c003e"
   },
   "outputs": [
    {
     "name": "stdout",
     "output_type": "stream",
     "text": [
      "<class 'pandas.core.frame.DataFrame'>\n",
      "<class 'torch.utils.data.dataset.TensorDataset'>\n"
     ]
    }
   ],
   "source": [
    "#Loading the data\n",
    "train = pd.read_csv(\"mnist_train.csv\")\n",
    "print(type(train))\n",
    "X = train.loc[:,train.columns != \"label\"].values/255   #Normalizing the values\n",
    "Y = train.label.values\n",
    "\n",
    "features_train, features_test, targets_train, targets_test = train_test_split(X,Y,test_size=0.2,\n",
    "                                                                              random_state=42)\n",
    "X_train = torch.from_numpy(features_train)\n",
    "X_test = torch.from_numpy(features_test)\n",
    "\n",
    "Y_train = torch.from_numpy(targets_train).type(torch.LongTensor) \n",
    "Y_test = torch.from_numpy(targets_test).type(torch.LongTensor)\n",
    "\n",
    "train = torch.utils.data.TensorDataset(X_train,Y_train)\n",
    "test = torch.utils.data.TensorDataset(X_test,Y_test)\n",
    "print(type(train))\n",
    "\n",
    "train_loader = torch.utils.data.DataLoader(train, batch_size = train_batch_size, shuffle = False)\n",
    "test_loader = torch.utils.data.DataLoader(test, batch_size = test_batch_size, shuffle = False)"
   ]
  },
  {
   "cell_type": "code",
   "execution_count": 94,
   "metadata": {},
   "outputs": [
    {
     "name": "stdout",
     "output_type": "stream",
     "text": [
      "tensor(4)\n"
     ]
    },
    {
     "data": {
      "image/png": "[encoded data removed]",
      "text/plain": [
       "<Figure size 432x288 with 1 Axes>"
      ]
     },
     "metadata": {
      "needs_background": "light"
     },
     "output_type": "display_data"
    }
   ],
   "source": [
    "classes = ['0','1','2','3','4','5','6','7','8','9']\n",
    "index =19\n",
    "plt.imshow(X_train.cpu()[index].reshape((28, 28)), cmap=\"gray\")\n",
    "print(Y_train[index])"
   ]
  },
  {
   "cell_type": "code",
   "execution_count": 74,
   "metadata": {
    "_uuid": "81b549484a9fe5f1f6582d52db4dc5e1febf843a"
   },
   "outputs": [],
   "source": [
    "class CNN(nn.Module):\n",
    "    def __init__(self):\n",
    "        super(CNN,self).__init__()\n",
    "        self.cnn_1 = nn.Conv2d(in_channels = 1, out_channels = 16, kernel_size = 5, stride=1, padding=0)\n",
    "        self.cnn_2 = nn.Conv2d(in_channels = 16, out_channels = 32, kernel_size = 5, stride=1, padding=0)\n",
    "        self.relu = nn.ReLU()\n",
    "        self.maxpool = nn.MaxPool2d(2,2)\n",
    "        self.dropout = nn.Dropout(p=0.2)\n",
    "        self.dropout2d = nn.Dropout2d(p=0.2)\n",
    "        \n",
    "        self.fc1 = nn.Linear(32 * 4 * 4, 128) \n",
    "        self.fc2 = nn.Linear(128, 64) \n",
    "        self.out = nn.Linear(64, 10) \n",
    "        \n",
    "    def forward(self,x):\n",
    "        \n",
    "        out = self.cnn_1(x)\n",
    "        out = self.relu(out)\n",
    "        out = self.dropout2d(out)\n",
    "        out = self.maxpool(out)\n",
    "        \n",
    "        out = self.cnn_2(out)\n",
    "        out = self.relu(out)\n",
    "        out = self.dropout2d(out)\n",
    "        out = self.maxpool(out)\n",
    "        \n",
    "        out = out.view(out.size(0), -1)\n",
    "        out = self.fc1(out)\n",
    "        out = self.dropout(out)\n",
    "        out = self.fc2(out)\n",
    "        out = self.dropout(out)\n",
    "        out = self.out(out)\n",
    "        \n",
    "        return out\n",
    "        \n",
    "        "
   ]
  },
  {
   "cell_type": "code",
   "execution_count": 75,
   "metadata": {
    "_uuid": "afee23b7c9c3adc2aa350012d592217f22f1c16a"
   },
   "outputs": [],
   "source": [
    "model = CNN()\n",
    "model = model.double()\n",
    "criterion = nn.CrossEntropyLoss()\n",
    "optimizer = torch.optim.Adam(model.parameters(),lr=0.003)"
   ]
  },
  {
   "cell_type": "code",
   "execution_count": 76,
   "metadata": {
    "_uuid": "adb7e2d0e11332589c3dd8ec031fdc173736b132"
   },
   "outputs": [
    {
     "name": "stdout",
     "output_type": "stream",
     "text": [
      "Epoch: 1/15..  Training Loss: 0.260..  Test Loss: 0.072..  Test Accuracy: 97.850\n",
      "Model Saved! at epoch no.: 1\n",
      "Epoch: 2/15..  Training Loss: 0.105..  Test Loss: 0.060..  Test Accuracy: 98.348\n",
      "Model Saved! at epoch no.: 2\n",
      "Epoch: 3/15..  Training Loss: 0.088..  Test Loss: 0.053..  Test Accuracy: 98.429\n",
      "Model Saved! at epoch no.: 3\n",
      "Epoch: 4/15..  Training Loss: 0.082..  Test Loss: 0.049..  Test Accuracy: 98.611\n",
      "Model Saved! at epoch no.: 4\n",
      "Epoch: 5/15..  Training Loss: 0.074..  Test Loss: 0.069..  Test Accuracy: 98.183\n",
      "Model Saved! at epoch no.: 5\n",
      "Epoch: 6/15..  Training Loss: 0.074..  Test Loss: 0.050..  Test Accuracy: 98.627\n",
      "Model Saved! at epoch no.: 6\n",
      "Epoch: 7/15..  Training Loss: 0.068..  Test Loss: 0.057..  Test Accuracy: 98.456\n",
      "Model Saved! at epoch no.: 7\n",
      "Epoch: 8/15..  Training Loss: 0.068..  Test Loss: 0.055..  Test Accuracy: 98.635\n",
      "Model Saved! at epoch no.: 8\n",
      "Epoch: 9/15..  Training Loss: 0.067..  Test Loss: 0.055..  Test Accuracy: 98.539\n",
      "Model Saved! at epoch no.: 9\n",
      "Epoch: 10/15..  Training Loss: 0.063..  Test Loss: 0.056..  Test Accuracy: 98.481\n",
      "Model Saved! at epoch no.: 10\n",
      "Epoch: 11/15..  Training Loss: 0.065..  Test Loss: 0.056..  Test Accuracy: 98.489\n",
      "Model Saved! at epoch no.: 11\n",
      "Epoch: 12/15..  Training Loss: 0.062..  Test Loss: 0.048..  Test Accuracy: 98.688\n",
      "Model Saved! at epoch no.: 12\n",
      "Epoch: 13/15..  Training Loss: 0.062..  Test Loss: 0.059..  Test Accuracy: 98.398\n",
      "Model Saved! at epoch no.: 13\n",
      "Epoch: 14/15..  Training Loss: 0.060..  Test Loss: 0.045..  Test Accuracy: 98.745\n",
      "Model Saved! at epoch no.: 14\n",
      "Epoch: 15/15..  Training Loss: 0.059..  Test Loss: 0.051..  Test Accuracy: 98.635\n",
      "Model Saved! at epoch no.: 15\n"
     ]
    }
   ],
   "source": [
    "epochs = 15\n",
    "train_losses, test_losses = [] ,[]\n",
    "for epoch in range(epochs):\n",
    "    running_loss = 0\n",
    "    for images,labels in train_loader:\n",
    "        train = Variable(images.view(-1,1,28,28))\n",
    "        labels = Variable(labels)\n",
    "        \n",
    "        optimizer.zero_grad()\n",
    "        \n",
    "        output = model(train)\n",
    "        loss = criterion(output,labels)\n",
    "        loss.backward()\n",
    "        optimizer.step()\n",
    "        \n",
    "        running_loss += loss.item()\n",
    "    else:\n",
    "        test_loss = 0\n",
    "        accuracy = 0\n",
    "        \n",
    "        with torch.no_grad(): #Turning off gradients to speed up\n",
    "            model.eval()\n",
    "            for images,labels in test_loader:\n",
    "                \n",
    "                test = Variable(images.view(-1,1,28,28))\n",
    "                labels = Variable(labels)\n",
    "                \n",
    "                log_ps = model(test)\n",
    "                test_loss += criterion(log_ps,labels)\n",
    "                \n",
    "                ps = torch.exp(log_ps)\n",
    "                top_p, top_class = ps.topk(1, dim = 1)\n",
    "                equals = top_class == labels.view(*top_class.shape)\n",
    "                accuracy += torch.mean(equals.type(torch.FloatTensor))\n",
    "        model.train()        \n",
    "        train_losses.append(running_loss/len(train_loader))\n",
    "        test_losses.append(test_loss/len(test_loader))\n",
    "\n",
    "        print(\"Epoch: {}/{}.. \".format(epoch+1, epochs),\n",
    "              \"Training Loss: {:.3f}.. \".format(running_loss/len(train_loader)),\n",
    "              \"Test Loss: {:.3f}.. \".format(test_loss/len(test_loader)),\n",
    "              \"Test Accuracy: {:.3f}\".format(accuracy*100/len(test_loader)))\n",
    "        \n",
    "    PATH = './saved_model.pth'\n",
    "    torch.save(model.state_dict(), PATH)\n",
    "    print(\"Model Saved! at epoch no.: {}\".format(epoch+1))     "
   ]
  },
  {
   "cell_type": "code",
   "execution_count": 95,
   "metadata": {
    "_uuid": "4030eff63670a6c45cb699bc90ae0651448ac54e"
   },
   "outputs": [
    {
     "data": {
      "text/plain": [
       "<matplotlib.legend.Legend at 0x14db2f7b2c8>"
      ]
     },
     "execution_count": 95,
     "metadata": {},
     "output_type": "execute_result"
    },
    {
     "data": {
      "image/png": "[encoded data removed]",
      "text/plain": [
       "<Figure size 432x288 with 1 Axes>"
      ]
     },
     "metadata": {
      "needs_background": "light"
     },
     "output_type": "display_data"
    }
   ],
   "source": [
    "plt.plot(train_losses, label='Training loss')\n",
    "plt.plot(test_losses, label='Validation loss')\n",
    "plt.legend(frameon=False)"
   ]
  },
  {
   "cell_type": "code",
   "execution_count": 96,
   "metadata": {
    "_uuid": "9b21fef6db22f650bd374f0c2a7978ef09d457d3"
   },
   "outputs": [],
   "source": [
    "test_images = pd.read_csv(\"mnist_test.csv\")\n",
    "test_image = test_images.loc[:,test_images.columns != \"label\"].values/255\n",
    "test_dataset = torch.from_numpy(test_image)\n",
    "#test_dataset_1 = torch.utils.data.TensorDataset(test_dataset)\n",
    "new_test_loader = torch.utils.data.DataLoader(test_dataset, batch_size = 100, shuffle = False)"
   ]
  },
  {
   "cell_type": "code",
   "execution_count": 97,
   "metadata": {
    "_uuid": "d46e513443a8a26c0f97e8abbd3cd8c37579fe47",
    "scrolled": true
   },
   "outputs": [],
   "source": [
    "results = []\n",
    "with torch.no_grad():\n",
    "    model.eval()\n",
    "    for images in new_test_loader:\n",
    "        test = Variable(images.view(-1,1,28,28))\n",
    "        output = model(test)\n",
    "        ps = torch.exp(output)\n",
    "        top_p, top_class = ps.topk(1, dim = 1)\n",
    "        results += top_class.numpy().tolist()"
   ]
  },
  {
   "cell_type": "code",
   "execution_count": 102,
   "metadata": {},
   "outputs": [
    {
     "data": {
      "text/plain": [
       "(10000, 1)"
      ]
     },
     "execution_count": 102,
     "metadata": {},
     "output_type": "execute_result"
    }
   ],
   "source": [
    "np.shape(results)"
   ]
  },
  {
   "cell_type": "code",
   "execution_count": 106,
   "metadata": {
    "_uuid": "ac0385e396a287d1604ad6a420258b7f583094bb",
    "scrolled": true
   },
   "outputs": [],
   "source": [
    "predictions = np.array(results).flatten()"
   ]
  },
  {
   "cell_type": "code",
   "execution_count": 107,
   "metadata": {},
   "outputs": [
    {
     "data": {
      "text/plain": [
       "(10000,)"
      ]
     },
     "execution_count": 107,
     "metadata": {},
     "output_type": "execute_result"
    }
   ],
   "source": [
    "np.shape(predictions)"
   ]
  },
  {
   "cell_type": "code",
   "execution_count": 99,
   "metadata": {
    "_uuid": "9f56157bcbbccc94ed6f729e1f72af2216d58198"
   },
   "outputs": [],
   "source": [
    "submissions=pd.DataFrame({\"ImageId\": list(range(1,len(predictions)+1)),\n",
    "                         \"Label\": predictions})\n",
    "submissions.to_csv(\"my_submissions.csv\", index=False, header=True)"
   ]
  },
  {
   "cell_type": "code",
   "execution_count": 119,
   "metadata": {},
   "outputs": [
    {
     "data": {
      "image/png": "[encoded data removed]",
      "text/plain": [
       "<Figure size 432x288 with 6 Axes>"
      ]
     },
     "metadata": {},
     "output_type": "display_data"
    }
   ],
   "source": [
    "fig = plt.figure()\n",
    "for i in range(6):\n",
    "  plt.subplot(2,3,i+1)\n",
    "  plt.tight_layout()\n",
    "  plt.imshow(test_dataset.cpu()[i].reshape((28, 28)), cmap=\"gray\")\n",
    "  plt.title(\"prediction: {}\".format(predictions[i]))\n",
    "  plt.xticks([])\n",
    "  plt.yticks([])\n",
    "    "
   ]
  },
  {
   "cell_type": "code",
   "execution_count": 117,
   "metadata": {},
   "outputs": [
    {
     "name": "stdout",
     "output_type": "stream",
     "text": [
      "   ImageId  Label\n",
      "0        1      7\n",
      "1        2      2\n",
      "2        3      1\n",
      "3        4      0\n",
      "4        5      4\n",
      "5        6      1\n"
     ]
    }
   ],
   "source": [
    "sub = pd.read_csv('my_submissions.csv')\n",
    "print(sub.head(6))"
   ]
  },
  {
   "cell_type": "code",
   "execution_count": null,
   "metadata": {},
   "outputs": [],
   "source": []
  }
 ],
 "metadata": {
  "kernelspec": {
   "display_name": "Python 3",
   "language": "python",
   "name": "python3"
  },
  "language_info": {
   "codemirror_mode": {
    "name": "ipython",
    "version": 3
   },
   "file_extension": ".py",
   "mimetype": "text/x-python",
   "name": "python",
   "nbconvert_exporter": "python",
   "pygments_lexer": "ipython3",
   "version": "3.7.4"
  }
 },
 "nbformat": 4,
 "nbformat_minor": 1
}
